{
 "cells": [
  {
   "cell_type": "code",
   "execution_count": 1,
   "id": "dirty-jones",
   "metadata": {},
   "outputs": [
    {
     "ename": "FileNotFoundError",
     "evalue": "[Errno 2] No such file or directory: './statistics/statistic_normal.xlsx'",
     "output_type": "error",
     "traceback": [
      "\u001b[1;31m---------------------------------------------------------------------------\u001b[0m",
      "\u001b[1;31mFileNotFoundError\u001b[0m                         Traceback (most recent call last)",
      "\u001b[1;32m<ipython-input-1-8e83c880a087>\u001b[0m in \u001b[0;36m<module>\u001b[1;34m\u001b[0m\n\u001b[0;32m      9\u001b[0m \u001b[1;33m\u001b[0m\u001b[0m\n\u001b[0;32m     10\u001b[0m \u001b[1;33m\u001b[0m\u001b[0m\n\u001b[1;32m---> 11\u001b[1;33m \u001b[0mnormalFrame\u001b[0m \u001b[1;33m=\u001b[0m \u001b[0mpd\u001b[0m\u001b[1;33m.\u001b[0m\u001b[0mread_excel\u001b[0m\u001b[1;33m(\u001b[0m\u001b[1;34m\"./statistics/statistic_normal.xlsx\"\u001b[0m\u001b[1;33m)\u001b[0m\u001b[1;33m\u001b[0m\u001b[1;33m\u001b[0m\u001b[0m\n\u001b[0m\u001b[0;32m     12\u001b[0m \u001b[0manormalyFrame\u001b[0m \u001b[1;33m=\u001b[0m \u001b[0mpd\u001b[0m\u001b[1;33m.\u001b[0m\u001b[0mread_excel\u001b[0m\u001b[1;33m(\u001b[0m\u001b[1;34m\"./statistics/statistic_anomaly.xlsx\"\u001b[0m\u001b[1;33m)\u001b[0m\u001b[1;33m\u001b[0m\u001b[1;33m\u001b[0m\u001b[0m\n",
      "\u001b[1;32mE:\\Personal_Soft\\Anaconda3\\envs\\Lee\\lib\\site-packages\\pandas\\util\\_decorators.py\u001b[0m in \u001b[0;36mwrapper\u001b[1;34m(*args, **kwargs)\u001b[0m\n\u001b[0;32m    294\u001b[0m                 )\n\u001b[0;32m    295\u001b[0m                 \u001b[0mwarnings\u001b[0m\u001b[1;33m.\u001b[0m\u001b[0mwarn\u001b[0m\u001b[1;33m(\u001b[0m\u001b[0mmsg\u001b[0m\u001b[1;33m,\u001b[0m \u001b[0mFutureWarning\u001b[0m\u001b[1;33m,\u001b[0m \u001b[0mstacklevel\u001b[0m\u001b[1;33m=\u001b[0m\u001b[0mstacklevel\u001b[0m\u001b[1;33m)\u001b[0m\u001b[1;33m\u001b[0m\u001b[1;33m\u001b[0m\u001b[0m\n\u001b[1;32m--> 296\u001b[1;33m             \u001b[1;32mreturn\u001b[0m \u001b[0mfunc\u001b[0m\u001b[1;33m(\u001b[0m\u001b[1;33m*\u001b[0m\u001b[0margs\u001b[0m\u001b[1;33m,\u001b[0m \u001b[1;33m**\u001b[0m\u001b[0mkwargs\u001b[0m\u001b[1;33m)\u001b[0m\u001b[1;33m\u001b[0m\u001b[1;33m\u001b[0m\u001b[0m\n\u001b[0m\u001b[0;32m    297\u001b[0m \u001b[1;33m\u001b[0m\u001b[0m\n\u001b[0;32m    298\u001b[0m         \u001b[1;32mreturn\u001b[0m \u001b[0mwrapper\u001b[0m\u001b[1;33m\u001b[0m\u001b[1;33m\u001b[0m\u001b[0m\n",
      "\u001b[1;32mE:\\Personal_Soft\\Anaconda3\\envs\\Lee\\lib\\site-packages\\pandas\\io\\excel\\_base.py\u001b[0m in \u001b[0;36mread_excel\u001b[1;34m(io, sheet_name, header, names, index_col, usecols, squeeze, dtype, engine, converters, true_values, false_values, skiprows, nrows, na_values, keep_default_na, na_filter, verbose, parse_dates, date_parser, thousands, comment, skipfooter, convert_float, mangle_dupe_cols)\u001b[0m\n\u001b[0;32m    302\u001b[0m \u001b[1;33m\u001b[0m\u001b[0m\n\u001b[0;32m    303\u001b[0m     \u001b[1;32mif\u001b[0m \u001b[1;32mnot\u001b[0m \u001b[0misinstance\u001b[0m\u001b[1;33m(\u001b[0m\u001b[0mio\u001b[0m\u001b[1;33m,\u001b[0m \u001b[0mExcelFile\u001b[0m\u001b[1;33m)\u001b[0m\u001b[1;33m:\u001b[0m\u001b[1;33m\u001b[0m\u001b[1;33m\u001b[0m\u001b[0m\n\u001b[1;32m--> 304\u001b[1;33m         \u001b[0mio\u001b[0m \u001b[1;33m=\u001b[0m \u001b[0mExcelFile\u001b[0m\u001b[1;33m(\u001b[0m\u001b[0mio\u001b[0m\u001b[1;33m,\u001b[0m \u001b[0mengine\u001b[0m\u001b[1;33m=\u001b[0m\u001b[0mengine\u001b[0m\u001b[1;33m)\u001b[0m\u001b[1;33m\u001b[0m\u001b[1;33m\u001b[0m\u001b[0m\n\u001b[0m\u001b[0;32m    305\u001b[0m     \u001b[1;32melif\u001b[0m \u001b[0mengine\u001b[0m \u001b[1;32mand\u001b[0m \u001b[0mengine\u001b[0m \u001b[1;33m!=\u001b[0m \u001b[0mio\u001b[0m\u001b[1;33m.\u001b[0m\u001b[0mengine\u001b[0m\u001b[1;33m:\u001b[0m\u001b[1;33m\u001b[0m\u001b[1;33m\u001b[0m\u001b[0m\n\u001b[0;32m    306\u001b[0m         raise ValueError(\n",
      "\u001b[1;32mE:\\Personal_Soft\\Anaconda3\\envs\\Lee\\lib\\site-packages\\pandas\\io\\excel\\_base.py\u001b[0m in \u001b[0;36m__init__\u001b[1;34m(self, path_or_buffer, engine)\u001b[0m\n\u001b[0;32m    865\u001b[0m         \u001b[0mself\u001b[0m\u001b[1;33m.\u001b[0m\u001b[0m_io\u001b[0m \u001b[1;33m=\u001b[0m \u001b[0mstringify_path\u001b[0m\u001b[1;33m(\u001b[0m\u001b[0mpath_or_buffer\u001b[0m\u001b[1;33m)\u001b[0m\u001b[1;33m\u001b[0m\u001b[1;33m\u001b[0m\u001b[0m\n\u001b[0;32m    866\u001b[0m \u001b[1;33m\u001b[0m\u001b[0m\n\u001b[1;32m--> 867\u001b[1;33m         \u001b[0mself\u001b[0m\u001b[1;33m.\u001b[0m\u001b[0m_reader\u001b[0m \u001b[1;33m=\u001b[0m \u001b[0mself\u001b[0m\u001b[1;33m.\u001b[0m\u001b[0m_engines\u001b[0m\u001b[1;33m[\u001b[0m\u001b[0mengine\u001b[0m\u001b[1;33m]\u001b[0m\u001b[1;33m(\u001b[0m\u001b[0mself\u001b[0m\u001b[1;33m.\u001b[0m\u001b[0m_io\u001b[0m\u001b[1;33m)\u001b[0m\u001b[1;33m\u001b[0m\u001b[1;33m\u001b[0m\u001b[0m\n\u001b[0m\u001b[0;32m    868\u001b[0m \u001b[1;33m\u001b[0m\u001b[0m\n\u001b[0;32m    869\u001b[0m     \u001b[1;32mdef\u001b[0m \u001b[0m__fspath__\u001b[0m\u001b[1;33m(\u001b[0m\u001b[0mself\u001b[0m\u001b[1;33m)\u001b[0m\u001b[1;33m:\u001b[0m\u001b[1;33m\u001b[0m\u001b[1;33m\u001b[0m\u001b[0m\n",
      "\u001b[1;32mE:\\Personal_Soft\\Anaconda3\\envs\\Lee\\lib\\site-packages\\pandas\\io\\excel\\_xlrd.py\u001b[0m in \u001b[0;36m__init__\u001b[1;34m(self, filepath_or_buffer)\u001b[0m\n\u001b[0;32m     20\u001b[0m         \u001b[0merr_msg\u001b[0m \u001b[1;33m=\u001b[0m \u001b[1;34m\"Install xlrd >= 1.0.0 for Excel support\"\u001b[0m\u001b[1;33m\u001b[0m\u001b[1;33m\u001b[0m\u001b[0m\n\u001b[0;32m     21\u001b[0m         \u001b[0mimport_optional_dependency\u001b[0m\u001b[1;33m(\u001b[0m\u001b[1;34m\"xlrd\"\u001b[0m\u001b[1;33m,\u001b[0m \u001b[0mextra\u001b[0m\u001b[1;33m=\u001b[0m\u001b[0merr_msg\u001b[0m\u001b[1;33m)\u001b[0m\u001b[1;33m\u001b[0m\u001b[1;33m\u001b[0m\u001b[0m\n\u001b[1;32m---> 22\u001b[1;33m         \u001b[0msuper\u001b[0m\u001b[1;33m(\u001b[0m\u001b[1;33m)\u001b[0m\u001b[1;33m.\u001b[0m\u001b[0m__init__\u001b[0m\u001b[1;33m(\u001b[0m\u001b[0mfilepath_or_buffer\u001b[0m\u001b[1;33m)\u001b[0m\u001b[1;33m\u001b[0m\u001b[1;33m\u001b[0m\u001b[0m\n\u001b[0m\u001b[0;32m     23\u001b[0m \u001b[1;33m\u001b[0m\u001b[0m\n\u001b[0;32m     24\u001b[0m     \u001b[1;33m@\u001b[0m\u001b[0mproperty\u001b[0m\u001b[1;33m\u001b[0m\u001b[1;33m\u001b[0m\u001b[0m\n",
      "\u001b[1;32mE:\\Personal_Soft\\Anaconda3\\envs\\Lee\\lib\\site-packages\\pandas\\io\\excel\\_base.py\u001b[0m in \u001b[0;36m__init__\u001b[1;34m(self, filepath_or_buffer)\u001b[0m\n\u001b[0;32m    351\u001b[0m             \u001b[0mself\u001b[0m\u001b[1;33m.\u001b[0m\u001b[0mbook\u001b[0m \u001b[1;33m=\u001b[0m \u001b[0mself\u001b[0m\u001b[1;33m.\u001b[0m\u001b[0mload_workbook\u001b[0m\u001b[1;33m(\u001b[0m\u001b[0mfilepath_or_buffer\u001b[0m\u001b[1;33m)\u001b[0m\u001b[1;33m\u001b[0m\u001b[1;33m\u001b[0m\u001b[0m\n\u001b[0;32m    352\u001b[0m         \u001b[1;32melif\u001b[0m \u001b[0misinstance\u001b[0m\u001b[1;33m(\u001b[0m\u001b[0mfilepath_or_buffer\u001b[0m\u001b[1;33m,\u001b[0m \u001b[0mstr\u001b[0m\u001b[1;33m)\u001b[0m\u001b[1;33m:\u001b[0m\u001b[1;33m\u001b[0m\u001b[1;33m\u001b[0m\u001b[0m\n\u001b[1;32m--> 353\u001b[1;33m             \u001b[0mself\u001b[0m\u001b[1;33m.\u001b[0m\u001b[0mbook\u001b[0m \u001b[1;33m=\u001b[0m \u001b[0mself\u001b[0m\u001b[1;33m.\u001b[0m\u001b[0mload_workbook\u001b[0m\u001b[1;33m(\u001b[0m\u001b[0mfilepath_or_buffer\u001b[0m\u001b[1;33m)\u001b[0m\u001b[1;33m\u001b[0m\u001b[1;33m\u001b[0m\u001b[0m\n\u001b[0m\u001b[0;32m    354\u001b[0m         \u001b[1;32melif\u001b[0m \u001b[0misinstance\u001b[0m\u001b[1;33m(\u001b[0m\u001b[0mfilepath_or_buffer\u001b[0m\u001b[1;33m,\u001b[0m \u001b[0mbytes\u001b[0m\u001b[1;33m)\u001b[0m\u001b[1;33m:\u001b[0m\u001b[1;33m\u001b[0m\u001b[1;33m\u001b[0m\u001b[0m\n\u001b[0;32m    355\u001b[0m             \u001b[0mself\u001b[0m\u001b[1;33m.\u001b[0m\u001b[0mbook\u001b[0m \u001b[1;33m=\u001b[0m \u001b[0mself\u001b[0m\u001b[1;33m.\u001b[0m\u001b[0mload_workbook\u001b[0m\u001b[1;33m(\u001b[0m\u001b[0mBytesIO\u001b[0m\u001b[1;33m(\u001b[0m\u001b[0mfilepath_or_buffer\u001b[0m\u001b[1;33m)\u001b[0m\u001b[1;33m)\u001b[0m\u001b[1;33m\u001b[0m\u001b[1;33m\u001b[0m\u001b[0m\n",
      "\u001b[1;32mE:\\Personal_Soft\\Anaconda3\\envs\\Lee\\lib\\site-packages\\pandas\\io\\excel\\_xlrd.py\u001b[0m in \u001b[0;36mload_workbook\u001b[1;34m(self, filepath_or_buffer)\u001b[0m\n\u001b[0;32m     35\u001b[0m             \u001b[1;32mreturn\u001b[0m \u001b[0mopen_workbook\u001b[0m\u001b[1;33m(\u001b[0m\u001b[0mfile_contents\u001b[0m\u001b[1;33m=\u001b[0m\u001b[0mdata\u001b[0m\u001b[1;33m)\u001b[0m\u001b[1;33m\u001b[0m\u001b[1;33m\u001b[0m\u001b[0m\n\u001b[0;32m     36\u001b[0m         \u001b[1;32melse\u001b[0m\u001b[1;33m:\u001b[0m\u001b[1;33m\u001b[0m\u001b[1;33m\u001b[0m\u001b[0m\n\u001b[1;32m---> 37\u001b[1;33m             \u001b[1;32mreturn\u001b[0m \u001b[0mopen_workbook\u001b[0m\u001b[1;33m(\u001b[0m\u001b[0mfilepath_or_buffer\u001b[0m\u001b[1;33m)\u001b[0m\u001b[1;33m\u001b[0m\u001b[1;33m\u001b[0m\u001b[0m\n\u001b[0m\u001b[0;32m     38\u001b[0m \u001b[1;33m\u001b[0m\u001b[0m\n\u001b[0;32m     39\u001b[0m     \u001b[1;33m@\u001b[0m\u001b[0mproperty\u001b[0m\u001b[1;33m\u001b[0m\u001b[1;33m\u001b[0m\u001b[0m\n",
      "\u001b[1;32mE:\\Personal_Soft\\Anaconda3\\envs\\Lee\\lib\\site-packages\\xlrd\\__init__.py\u001b[0m in \u001b[0;36mopen_workbook\u001b[1;34m(filename, logfile, verbosity, use_mmap, file_contents, encoding_override, formatting_info, on_demand, ragged_rows)\u001b[0m\n\u001b[0;32m    109\u001b[0m     \u001b[1;32melse\u001b[0m\u001b[1;33m:\u001b[0m\u001b[1;33m\u001b[0m\u001b[1;33m\u001b[0m\u001b[0m\n\u001b[0;32m    110\u001b[0m         \u001b[0mfilename\u001b[0m \u001b[1;33m=\u001b[0m \u001b[0mos\u001b[0m\u001b[1;33m.\u001b[0m\u001b[0mpath\u001b[0m\u001b[1;33m.\u001b[0m\u001b[0mexpanduser\u001b[0m\u001b[1;33m(\u001b[0m\u001b[0mfilename\u001b[0m\u001b[1;33m)\u001b[0m\u001b[1;33m\u001b[0m\u001b[1;33m\u001b[0m\u001b[0m\n\u001b[1;32m--> 111\u001b[1;33m         \u001b[1;32mwith\u001b[0m \u001b[0mopen\u001b[0m\u001b[1;33m(\u001b[0m\u001b[0mfilename\u001b[0m\u001b[1;33m,\u001b[0m \u001b[1;34m\"rb\"\u001b[0m\u001b[1;33m)\u001b[0m \u001b[1;32mas\u001b[0m \u001b[0mf\u001b[0m\u001b[1;33m:\u001b[0m\u001b[1;33m\u001b[0m\u001b[1;33m\u001b[0m\u001b[0m\n\u001b[0m\u001b[0;32m    112\u001b[0m             \u001b[0mpeek\u001b[0m \u001b[1;33m=\u001b[0m \u001b[0mf\u001b[0m\u001b[1;33m.\u001b[0m\u001b[0mread\u001b[0m\u001b[1;33m(\u001b[0m\u001b[0mpeeksz\u001b[0m\u001b[1;33m)\u001b[0m\u001b[1;33m\u001b[0m\u001b[1;33m\u001b[0m\u001b[0m\n\u001b[0;32m    113\u001b[0m     \u001b[1;32mif\u001b[0m \u001b[0mpeek\u001b[0m \u001b[1;33m==\u001b[0m \u001b[1;34mb\"PK\\x03\\x04\"\u001b[0m\u001b[1;33m:\u001b[0m \u001b[1;31m# a ZIP file\u001b[0m\u001b[1;33m\u001b[0m\u001b[1;33m\u001b[0m\u001b[0m\n",
      "\u001b[1;31mFileNotFoundError\u001b[0m: [Errno 2] No such file or directory: './statistics/statistic_normal.xlsx'"
     ]
    }
   ],
   "source": [
    "import matplotlib.pyplot as plt\n",
    "import seaborn as sb\n",
    "sb.set_style(style=\"whitegrid\")\n",
    "sb.set_color_codes()\n",
    "import numpy as np\n",
    "from scipy.stats import skew\n",
    "import pandas as pd\n",
    "import eif_old as eif_old_class\n",
    "\n",
    "\n",
    "normalFrame = pd.read_excel(\"./statistics/statistic_normal.xlsx\")\n",
    "anormalyFrame = pd.read_excel(\"./statistics/statistic_anomaly.xlsx\")"
   ]
  },
  {
   "cell_type": "code",
   "execution_count": 14,
   "id": "unlike-cardiff",
   "metadata": {},
   "outputs": [
    {
     "data": {
      "image/png": "[encoded data removed]",
      "text/plain": [
       "<Figure size 432x288 with 1 Axes>"
      ]
     },
     "metadata": {},
     "output_type": "display_data"
    }
   ],
   "source": [
    "figTotal, axTotal = plt.subplots()"
   ]
  },
  {
   "cell_type": "code",
   "execution_count": 15,
   "id": "pursuant-circular",
   "metadata": {},
   "outputs": [],
   "source": [
    "statistic_title = \"mean\"\n",
    "n_statistic_value_array = np.array(normalFrame.loc[:, statistic_title])\n",
    "n_statistic_value_series = pd.value_counts(n_statistic_value_array)\n",
    "n_statistic_value_series = n_statistic_value_series.sort_index()"
   ]
  },
  {
   "cell_type": "code",
   "execution_count": 16,
   "id": "documentary-awareness",
   "metadata": {},
   "outputs": [
    {
     "data": {
      "text/plain": [
       "array([16.85957706, 24.71757293, 17.08131892, ..., 25.19824261,\n",
       "       27.57150306, 23.20768897])"
      ]
     },
     "execution_count": 16,
     "metadata": {},
     "output_type": "execute_result"
    }
   ],
   "source": [
    "n_statistic_value_array"
   ]
  },
  {
   "cell_type": "code",
   "execution_count": 17,
   "id": "mysterious-poster",
   "metadata": {},
   "outputs": [
    {
     "data": {
      "text/plain": [
       "6.023524        1\n",
       "6.088418        1\n",
       "6.311169        1\n",
       "6.868631        1\n",
       "6.927298        1\n",
       "             ... \n",
       "26.496351       1\n",
       "26.500224       1\n",
       "26.670386       5\n",
       "26.784515       4\n",
       "27.571503    3322\n",
       "Length: 7587, dtype: int64"
      ]
     },
     "execution_count": 17,
     "metadata": {},
     "output_type": "execute_result"
    }
   ],
   "source": [
    "n_statistic_value_series"
   ]
  },
  {
   "cell_type": "code",
   "execution_count": 18,
   "id": "mysterious-ground",
   "metadata": {},
   "outputs": [
    {
     "data": {
      "text/plain": [
       "6.023524        1\n",
       "6.088418        1\n",
       "6.311169        1\n",
       "6.868631        1\n",
       "6.927298        1\n",
       "             ... \n",
       "26.496351       1\n",
       "26.500224       1\n",
       "26.670386       5\n",
       "26.784515       4\n",
       "27.571503    3322\n",
       "Length: 7587, dtype: int64"
      ]
     },
     "execution_count": 18,
     "metadata": {},
     "output_type": "execute_result"
    }
   ],
   "source": [
    "n_statistic_value_series"
   ]
  },
  {
   "cell_type": "code",
   "execution_count": 19,
   "id": "sunset-fraud",
   "metadata": {},
   "outputs": [],
   "source": [
    "indexes = n_statistic_value_series.index\n",
    "indexes_list = np.array(indexes)"
   ]
  },
  {
   "cell_type": "code",
   "execution_count": 20,
   "id": "worldwide-joshua",
   "metadata": {},
   "outputs": [
    {
     "data": {
      "text/plain": [
       "Float64Index([6.023523936038562, 6.088418269609418, 6.311169346383843,\n",
       "              6.868631351431218, 6.927297961009168, 7.769540495446025,\n",
       "              8.362964887165354, 9.182533333414154, 9.670201200207025,\n",
       "               9.69684108314068,\n",
       "              ...\n",
       "              26.48682193237563, 26.48975841495275, 26.49045039156495,\n",
       "              26.49343122854468, 26.49528166349957, 26.49635076096062,\n",
       "              26.50022358679569, 26.67038649351779, 26.78451528546649,\n",
       "              27.57150305702901],\n",
       "             dtype='float64', length=7587)"
      ]
     },
     "execution_count": 20,
     "metadata": {},
     "output_type": "execute_result"
    }
   ],
   "source": [
    "indexes"
   ]
  },
  {
   "cell_type": "code",
   "execution_count": 21,
   "id": "accompanied-definition",
   "metadata": {},
   "outputs": [
    {
     "data": {
      "text/plain": [
       "array([ 6.02352394,  6.08841827,  6.31116935, ..., 26.67038649,\n",
       "       26.78451529, 27.57150306])"
      ]
     },
     "execution_count": 21,
     "metadata": {},
     "output_type": "execute_result"
    }
   ],
   "source": [
    "indexes_list"
   ]
  },
  {
   "cell_type": "code",
   "execution_count": 22,
   "id": "small-payment",
   "metadata": {},
   "outputs": [],
   "source": [
    "value_Column = np.array(n_statistic_value_series)"
   ]
  },
  {
   "cell_type": "code",
   "execution_count": 23,
   "id": "facial-immunology",
   "metadata": {},
   "outputs": [
    {
     "data": {
      "text/plain": [
       "array([   1,    1,    1, ...,    5,    4, 3322], dtype=int64)"
      ]
     },
     "execution_count": 23,
     "metadata": {},
     "output_type": "execute_result"
    }
   ],
   "source": [
    "value_Column"
   ]
  },
  {
   "cell_type": "code",
   "execution_count": 1,
   "id": "weighted-portugal",
   "metadata": {},
   "outputs": [
    {
     "name": "stdout",
     "output_type": "stream",
     "text": [
      "{'__header__': b'MATLAB 5.0 MAT-file, written by Octave 3.8.0, 2014-12-05 13:11:25 UTC', '__version__': '1.0', '__globals__': [], 'X': array([[7.74193548e-01, 1.13207547e-03, 1.37571157e-01, 2.75700935e-01,\n",
      "        2.95774648e-01, 2.36065574e-01],\n",
      "       [2.47311828e-01, 4.71698113e-04, 2.79886148e-01, 3.29439252e-01,\n",
      "        5.35211268e-01, 1.73770492e-01],\n",
      "       [4.94623656e-01, 3.58490566e-03, 2.22960152e-01, 2.33644860e-01,\n",
      "        5.25821596e-01, 1.24590164e-01],\n",
      "       ...,\n",
      "       [9.35483871e-01, 2.45283019e-02, 1.60341556e-01, 2.82710280e-01,\n",
      "        3.75586854e-01, 2.00000000e-01],\n",
      "       [6.77419355e-01, 1.47169811e-03, 1.90702087e-01, 2.42990654e-01,\n",
      "        3.23943662e-01, 1.95081967e-01],\n",
      "       [4.83870968e-01, 3.56603774e-03, 1.90702087e-01, 2.12616822e-01,\n",
      "        3.38028169e-01, 1.63934426e-01]]), 'y': array([[0.],\n",
      "       [0.],\n",
      "       [0.],\n",
      "       ...,\n",
      "       [0.],\n",
      "       [0.],\n",
      "       [0.]])}\n"
     ]
    }
   ],
   "source": [
    "import scipy.io as sio\n",
    "data = sio.loadmat('./datasets/thyroid.mat')\n",
    "print(data)"
   ]
  },
  {
   "cell_type": "code",
   "execution_count": 9,
   "id": "instructional-driving",
   "metadata": {},
   "outputs": [
    {
     "name": "stdout",
     "output_type": "stream",
     "text": [
      "[[7.74193548e-01 1.13207547e-03 1.37571157e-01 2.75700935e-01\n",
      "  2.95774648e-01 2.36065574e-01]\n",
      " [2.47311828e-01 4.71698113e-04 2.79886148e-01 3.29439252e-01\n",
      "  5.35211268e-01 1.73770492e-01]\n",
      " [4.94623656e-01 3.58490566e-03 2.22960152e-01 2.33644860e-01\n",
      "  5.25821596e-01 1.24590164e-01]\n",
      " ...\n",
      " [9.35483871e-01 2.45283019e-02 1.60341556e-01 2.82710280e-01\n",
      "  3.75586854e-01 2.00000000e-01]\n",
      " [6.77419355e-01 1.47169811e-03 1.90702087e-01 2.42990654e-01\n",
      "  3.23943662e-01 1.95081967e-01]\n",
      " [4.83870968e-01 3.56603774e-03 1.90702087e-01 2.12616822e-01\n",
      "  3.38028169e-01 1.63934426e-01]]\n"
     ]
    }
   ],
   "source": [
    "x_data = data[\"X\"]\n",
    "print(x_data)"
   ]
  },
  {
   "cell_type": "code",
   "execution_count": 11,
   "id": "african-birth",
   "metadata": {},
   "outputs": [
    {
     "name": "stdout",
     "output_type": "stream",
     "text": [
      "[[0.]\n",
      " [0.]\n",
      " [0.]\n",
      " ...\n",
      " [0.]\n",
      " [0.]\n",
      " [0.]]\n"
     ]
    }
   ],
   "source": [
    "y_data = data[\"y\"]\n",
    "print(y_data)"
   ]
  },
  {
   "cell_type": "code",
   "execution_count": 13,
   "id": "assigned-female",
   "metadata": {},
   "outputs": [],
   "source": [
    "import numpy as np\n",
    "x_data = np.array(data[\"X\"])\n",
    "y_data = np.array(data[\"y\"])"
   ]
  },
  {
   "cell_type": "code",
   "execution_count": 15,
   "id": "animal-latest",
   "metadata": {},
   "outputs": [
    {
     "name": "stdout",
     "output_type": "stream",
     "text": [
      "[[7.74193548e-01 1.13207547e-03 1.37571157e-01 ... 2.95774648e-01\n",
      "  2.36065574e-01 0.00000000e+00]\n",
      " [2.47311828e-01 4.71698113e-04 2.79886148e-01 ... 5.35211268e-01\n",
      "  1.73770492e-01 0.00000000e+00]\n",
      " [4.94623656e-01 3.58490566e-03 2.22960152e-01 ... 5.25821596e-01\n",
      "  1.24590164e-01 0.00000000e+00]\n",
      " ...\n",
      " [9.35483871e-01 2.45283019e-02 1.60341556e-01 ... 3.75586854e-01\n",
      "  2.00000000e-01 0.00000000e+00]\n",
      " [6.77419355e-01 1.47169811e-03 1.90702087e-01 ... 3.23943662e-01\n",
      "  1.95081967e-01 0.00000000e+00]\n",
      " [4.83870968e-01 3.56603774e-03 1.90702087e-01 ... 3.38028169e-01\n",
      "  1.63934426e-01 0.00000000e+00]]\n"
     ]
    }
   ],
   "source": [
    "print(np.concatenate((x_data,y_data),axis=1))"
   ]
  },
  {
   "cell_type": "code",
   "execution_count": 9,
   "id": "novel-remedy",
   "metadata": {},
   "outputs": [
    {
     "ename": "FileNotFoundError",
     "evalue": "[Errno 2] No such file or directory: './logistic_regression_data/statistic_data.xlsx'",
     "output_type": "error",
     "traceback": [
      "\u001b[1;31m---------------------------------------------------------------------------\u001b[0m",
      "\u001b[1;31mFileNotFoundError\u001b[0m                         Traceback (most recent call last)",
      "\u001b[1;32m<ipython-input-9-ecd0b7322cd5>\u001b[0m in \u001b[0;36m<module>\u001b[1;34m\u001b[0m\n\u001b[0;32m      3\u001b[0m \u001b[1;32mfrom\u001b[0m \u001b[0msklearn\u001b[0m\u001b[1;33m.\u001b[0m\u001b[0mmodel_selection\u001b[0m \u001b[1;32mimport\u001b[0m \u001b[0mtrain_test_split\u001b[0m\u001b[1;33m\u001b[0m\u001b[1;33m\u001b[0m\u001b[0m\n\u001b[0;32m      4\u001b[0m \u001b[1;33m\u001b[0m\u001b[0m\n\u001b[1;32m----> 5\u001b[1;33m \u001b[0mraw_data\u001b[0m \u001b[1;33m=\u001b[0m \u001b[0mpd\u001b[0m\u001b[1;33m.\u001b[0m\u001b[0mread_excel\u001b[0m\u001b[1;33m(\u001b[0m\u001b[1;34m\"./logistic_regression_data/statistic_data.xlsx\"\u001b[0m\u001b[1;33m)\u001b[0m\u001b[1;33m\u001b[0m\u001b[1;33m\u001b[0m\u001b[0m\n\u001b[0m\u001b[0;32m      6\u001b[0m \u001b[1;33m\u001b[0m\u001b[0m\n\u001b[0;32m      7\u001b[0m \u001b[0mx\u001b[0m \u001b[1;33m=\u001b[0m \u001b[0mraw_data\u001b[0m\u001b[1;33m.\u001b[0m\u001b[0mloc\u001b[0m\u001b[1;33m[\u001b[0m\u001b[1;33m:\u001b[0m\u001b[1;33m,\u001b[0m \u001b[1;33m[\u001b[0m\u001b[1;34m\"mean\"\u001b[0m\u001b[1;33m,\u001b[0m\u001b[1;34m\"Standard_Deviation\"\u001b[0m\u001b[1;33m,\u001b[0m\u001b[1;34m\"Skewness\"\u001b[0m\u001b[1;33m]\u001b[0m\u001b[1;33m]\u001b[0m\u001b[1;33m\u001b[0m\u001b[1;33m\u001b[0m\u001b[0m\n",
      "\u001b[1;32mE:\\Personal_Soft\\Anaconda3\\envs\\Lee\\lib\\site-packages\\pandas\\util\\_decorators.py\u001b[0m in \u001b[0;36mwrapper\u001b[1;34m(*args, **kwargs)\u001b[0m\n\u001b[0;32m    297\u001b[0m                 )\n\u001b[0;32m    298\u001b[0m                 \u001b[0mwarnings\u001b[0m\u001b[1;33m.\u001b[0m\u001b[0mwarn\u001b[0m\u001b[1;33m(\u001b[0m\u001b[0mmsg\u001b[0m\u001b[1;33m,\u001b[0m \u001b[0mFutureWarning\u001b[0m\u001b[1;33m,\u001b[0m \u001b[0mstacklevel\u001b[0m\u001b[1;33m=\u001b[0m\u001b[0mstacklevel\u001b[0m\u001b[1;33m)\u001b[0m\u001b[1;33m\u001b[0m\u001b[1;33m\u001b[0m\u001b[0m\n\u001b[1;32m--> 299\u001b[1;33m             \u001b[1;32mreturn\u001b[0m \u001b[0mfunc\u001b[0m\u001b[1;33m(\u001b[0m\u001b[1;33m*\u001b[0m\u001b[0margs\u001b[0m\u001b[1;33m,\u001b[0m \u001b[1;33m**\u001b[0m\u001b[0mkwargs\u001b[0m\u001b[1;33m)\u001b[0m\u001b[1;33m\u001b[0m\u001b[1;33m\u001b[0m\u001b[0m\n\u001b[0m\u001b[0;32m    300\u001b[0m \u001b[1;33m\u001b[0m\u001b[0m\n\u001b[0;32m    301\u001b[0m         \u001b[1;32mreturn\u001b[0m \u001b[0mwrapper\u001b[0m\u001b[1;33m\u001b[0m\u001b[1;33m\u001b[0m\u001b[0m\n",
      "\u001b[1;32mE:\\Personal_Soft\\Anaconda3\\envs\\Lee\\lib\\site-packages\\pandas\\io\\excel\\_base.py\u001b[0m in \u001b[0;36mread_excel\u001b[1;34m(io, sheet_name, header, names, index_col, usecols, squeeze, dtype, engine, converters, true_values, false_values, skiprows, nrows, na_values, keep_default_na, na_filter, verbose, parse_dates, date_parser, thousands, comment, skipfooter, convert_float, mangle_dupe_cols, storage_options)\u001b[0m\n\u001b[0;32m    334\u001b[0m     \u001b[1;32mif\u001b[0m \u001b[1;32mnot\u001b[0m \u001b[0misinstance\u001b[0m\u001b[1;33m(\u001b[0m\u001b[0mio\u001b[0m\u001b[1;33m,\u001b[0m \u001b[0mExcelFile\u001b[0m\u001b[1;33m)\u001b[0m\u001b[1;33m:\u001b[0m\u001b[1;33m\u001b[0m\u001b[1;33m\u001b[0m\u001b[0m\n\u001b[0;32m    335\u001b[0m         \u001b[0mshould_close\u001b[0m \u001b[1;33m=\u001b[0m \u001b[1;32mTrue\u001b[0m\u001b[1;33m\u001b[0m\u001b[1;33m\u001b[0m\u001b[0m\n\u001b[1;32m--> 336\u001b[1;33m         \u001b[0mio\u001b[0m \u001b[1;33m=\u001b[0m \u001b[0mExcelFile\u001b[0m\u001b[1;33m(\u001b[0m\u001b[0mio\u001b[0m\u001b[1;33m,\u001b[0m \u001b[0mstorage_options\u001b[0m\u001b[1;33m=\u001b[0m\u001b[0mstorage_options\u001b[0m\u001b[1;33m,\u001b[0m \u001b[0mengine\u001b[0m\u001b[1;33m=\u001b[0m\u001b[0mengine\u001b[0m\u001b[1;33m)\u001b[0m\u001b[1;33m\u001b[0m\u001b[1;33m\u001b[0m\u001b[0m\n\u001b[0m\u001b[0;32m    337\u001b[0m     \u001b[1;32melif\u001b[0m \u001b[0mengine\u001b[0m \u001b[1;32mand\u001b[0m \u001b[0mengine\u001b[0m \u001b[1;33m!=\u001b[0m \u001b[0mio\u001b[0m\u001b[1;33m.\u001b[0m\u001b[0mengine\u001b[0m\u001b[1;33m:\u001b[0m\u001b[1;33m\u001b[0m\u001b[1;33m\u001b[0m\u001b[0m\n\u001b[0;32m    338\u001b[0m         raise ValueError(\n",
      "\u001b[1;32mE:\\Personal_Soft\\Anaconda3\\envs\\Lee\\lib\\site-packages\\pandas\\io\\excel\\_base.py\u001b[0m in \u001b[0;36m__init__\u001b[1;34m(self, path_or_buffer, engine, storage_options)\u001b[0m\n\u001b[0;32m   1055\u001b[0m             \u001b[0mext\u001b[0m \u001b[1;33m=\u001b[0m \u001b[1;34m\"xls\"\u001b[0m\u001b[1;33m\u001b[0m\u001b[1;33m\u001b[0m\u001b[0m\n\u001b[0;32m   1056\u001b[0m         \u001b[1;32melse\u001b[0m\u001b[1;33m:\u001b[0m\u001b[1;33m\u001b[0m\u001b[1;33m\u001b[0m\u001b[0m\n\u001b[1;32m-> 1057\u001b[1;33m             ext = inspect_excel_format(\n\u001b[0m\u001b[0;32m   1058\u001b[0m                 \u001b[0mcontent\u001b[0m\u001b[1;33m=\u001b[0m\u001b[0mpath_or_buffer\u001b[0m\u001b[1;33m,\u001b[0m \u001b[0mstorage_options\u001b[0m\u001b[1;33m=\u001b[0m\u001b[0mstorage_options\u001b[0m\u001b[1;33m\u001b[0m\u001b[1;33m\u001b[0m\u001b[0m\n\u001b[0;32m   1059\u001b[0m             )\n",
      "\u001b[1;32mE:\\Personal_Soft\\Anaconda3\\envs\\Lee\\lib\\site-packages\\pandas\\io\\excel\\_base.py\u001b[0m in \u001b[0;36minspect_excel_format\u001b[1;34m(path, content, storage_options)\u001b[0m\n\u001b[0;32m    936\u001b[0m     \u001b[1;32massert\u001b[0m \u001b[0mcontent_or_path\u001b[0m \u001b[1;32mis\u001b[0m \u001b[1;32mnot\u001b[0m \u001b[1;32mNone\u001b[0m\u001b[1;33m\u001b[0m\u001b[1;33m\u001b[0m\u001b[0m\n\u001b[0;32m    937\u001b[0m \u001b[1;33m\u001b[0m\u001b[0m\n\u001b[1;32m--> 938\u001b[1;33m     with get_handle(\n\u001b[0m\u001b[0;32m    939\u001b[0m         \u001b[0mcontent_or_path\u001b[0m\u001b[1;33m,\u001b[0m \u001b[1;34m\"rb\"\u001b[0m\u001b[1;33m,\u001b[0m \u001b[0mstorage_options\u001b[0m\u001b[1;33m=\u001b[0m\u001b[0mstorage_options\u001b[0m\u001b[1;33m,\u001b[0m \u001b[0mis_text\u001b[0m\u001b[1;33m=\u001b[0m\u001b[1;32mFalse\u001b[0m\u001b[1;33m\u001b[0m\u001b[1;33m\u001b[0m\u001b[0m\n\u001b[0;32m    940\u001b[0m     ) as handle:\n",
      "\u001b[1;32mE:\\Personal_Soft\\Anaconda3\\envs\\Lee\\lib\\site-packages\\pandas\\io\\common.py\u001b[0m in \u001b[0;36mget_handle\u001b[1;34m(path_or_buf, mode, encoding, compression, memory_map, is_text, errors, storage_options)\u001b[0m\n\u001b[0;32m    649\u001b[0m         \u001b[1;32melse\u001b[0m\u001b[1;33m:\u001b[0m\u001b[1;33m\u001b[0m\u001b[1;33m\u001b[0m\u001b[0m\n\u001b[0;32m    650\u001b[0m             \u001b[1;31m# Binary mode\u001b[0m\u001b[1;33m\u001b[0m\u001b[1;33m\u001b[0m\u001b[1;33m\u001b[0m\u001b[0m\n\u001b[1;32m--> 651\u001b[1;33m             \u001b[0mhandle\u001b[0m \u001b[1;33m=\u001b[0m \u001b[0mopen\u001b[0m\u001b[1;33m(\u001b[0m\u001b[0mhandle\u001b[0m\u001b[1;33m,\u001b[0m \u001b[0mioargs\u001b[0m\u001b[1;33m.\u001b[0m\u001b[0mmode\u001b[0m\u001b[1;33m)\u001b[0m\u001b[1;33m\u001b[0m\u001b[1;33m\u001b[0m\u001b[0m\n\u001b[0m\u001b[0;32m    652\u001b[0m         \u001b[0mhandles\u001b[0m\u001b[1;33m.\u001b[0m\u001b[0mappend\u001b[0m\u001b[1;33m(\u001b[0m\u001b[0mhandle\u001b[0m\u001b[1;33m)\u001b[0m\u001b[1;33m\u001b[0m\u001b[1;33m\u001b[0m\u001b[0m\n\u001b[0;32m    653\u001b[0m \u001b[1;33m\u001b[0m\u001b[0m\n",
      "\u001b[1;31mFileNotFoundError\u001b[0m: [Errno 2] No such file or directory: './logistic_regression_data/statistic_data.xlsx'"
     ]
    }
   ],
   "source": [
    "import numpy as np\n",
    "import pandas as pd\n",
    "from sklearn.model_selection import train_test_split\n",
    "\n",
    "raw_data = pd.read_excel(\"./logistic_regression_data/statistic_data.xlsx\")\n",
    "\n",
    "x = raw_data.loc[:, [\"mean\",\"Standard_Deviation\",\"Skewness\"]]\n",
    "y = raw_data.iloc[:,-1]\n",
    "\n",
    "print(x)\n",
    "print(y)\n"
   ]
  },
  {
   "cell_type": "code",
   "execution_count": 6,
   "id": "sexual-projector",
   "metadata": {},
   "outputs": [
    {
     "data": {
      "text/plain": [
       "pandas.core.series.Series"
      ]
     },
     "execution_count": 6,
     "metadata": {},
     "output_type": "execute_result"
    }
   ],
   "source": [
    "type(y)"
   ]
  },
  {
   "cell_type": "code",
   "execution_count": 7,
   "id": "vietnamese-shanghai",
   "metadata": {},
   "outputs": [],
   "source": [
    "x_train, x_test, y_train, y_test = train_test_split(x, y)"
   ]
  },
  {
   "cell_type": "code",
   "execution_count": 8,
   "id": "clinical-toilet",
   "metadata": {},
   "outputs": [
    {
     "name": "stdout",
     "output_type": "stream",
     "text": [
      "           mean   variance  Standard_Deviation  Skewness  Score\n",
      "1031  19.996846  11.588336            3.404165 -0.928580   0.38\n",
      "3309  20.866466   6.652168            2.579180 -1.051912   0.36\n",
      "1503  21.676268   4.420811            2.102573 -1.139858   0.35\n",
      "656   19.077421   7.971380            2.823363 -0.301306   0.40\n",
      "747   20.859596   6.419285            2.533631 -1.033267   0.36\n",
      "...         ...        ...                 ...       ...    ...\n",
      "1092  18.854972  17.997280            4.242320 -0.685431   0.40\n",
      "290   18.721870  14.438803            3.799843 -0.550566   0.40\n",
      "1965  19.485614  11.867450            3.444917 -0.781692   0.39\n",
      "1103  18.930140  15.139578            3.890961 -0.572120   0.40\n",
      "3024  18.614304  12.496573            3.535049 -0.406807   0.40\n",
      "\n",
      "[2829 rows x 5 columns]            mean   variance  Standard_Deviation  Skewness  Score\n",
      "1893  21.433883   5.657071            2.378460 -1.161265   0.35\n",
      "1156  19.467874   9.927667            3.150820 -0.730183   0.39\n",
      "2405  18.549819  17.471057            4.179839 -0.541267   0.41\n",
      "2457  20.861927   6.763287            2.600632 -1.166847   0.36\n",
      "638   20.228024  10.773313            3.282273 -0.880962   0.37\n",
      "...         ...        ...                 ...       ...    ...\n",
      "1096  21.163867   5.181762            2.276348 -1.263181   0.36\n",
      "2815  20.073797   8.498588            2.915234 -0.958489   0.38\n",
      "112   20.597405   6.679424            2.584458 -0.938228   0.37\n",
      "1599  19.131563  13.739598            3.706696 -0.693997   0.39\n",
      "739   20.819533   7.816602            2.795819 -1.077514   0.36\n",
      "\n",
      "[943 rows x 5 columns] 1031    0\n",
      "3309    0\n",
      "1503    0\n",
      "656     0\n",
      "747     0\n",
      "       ..\n",
      "1092    0\n",
      "290     0\n",
      "1965    0\n",
      "1103    0\n",
      "3024    0\n",
      "Name: label, Length: 2829, dtype: int64 1893    0\n",
      "1156    0\n",
      "2405    0\n",
      "2457    0\n",
      "638     0\n",
      "       ..\n",
      "1096    0\n",
      "2815    0\n",
      "112     0\n",
      "1599    0\n",
      "739     0\n",
      "Name: label, Length: 943, dtype: int64\n"
     ]
    }
   ],
   "source": [
    "print(x_train, x_test, y_train, y_test)"
   ]
  },
  {
   "cell_type": "code",
   "execution_count": 11,
   "id": "golden-germany",
   "metadata": {},
   "outputs": [
    {
     "name": "stdout",
     "output_type": "stream",
     "text": [
      "           mean  Standard_Deviation  Skewness\n",
      "0      6.280763            3.288287  1.385053\n",
      "1      7.792337            4.015437  1.282821\n",
      "2      6.823932            3.217246  1.182401\n",
      "3      7.779743            3.719354  1.135310\n",
      "4      9.680985            4.689993  1.132275\n",
      "...         ...                 ...       ...\n",
      "3767  21.735837            2.165749 -1.573385\n",
      "3768  21.485464            2.332735 -1.579144\n",
      "3769  21.438077            2.413531 -1.593838\n",
      "3770  21.373240            2.614138 -1.595937\n",
      "3771  21.690979            2.216564 -1.596689\n",
      "\n",
      "[3772 rows x 3 columns]\n"
     ]
    },
    {
     "data": {
      "text/plain": [
       "pandas.core.frame.DataFrame"
      ]
     },
     "execution_count": 11,
     "metadata": {},
     "output_type": "execute_result"
    }
   ],
   "source": [
    "raw_data = pd.read_excel(\"./logistic_regression_data/thyroid_statistic_data.xlsx\")\n",
    "x = raw_data.loc[:, [\"mean\",\"Standard_Deviation\",\"Skewness\"]]\n",
    "print(x)\n",
    "type(x)"
   ]
  },
  {
   "cell_type": "code",
   "execution_count": 1,
   "id": "transsexual-holiday",
   "metadata": {},
   "outputs": [],
   "source": [
    "import numpy as np\n",
    "import matplotlib.pyplot as plt\n",
    "import pandas as pd\n",
    "from sklearn.model_selection import train_test_split\n",
    "\n",
    "raw_data = pd.read_excel(\"./logistic_regression_data/shuttle_statistic_data.xlsx\")\n",
    "raw_data_anomaly = raw_data[raw_data[\"label\"] ==1]"
   ]
  },
  {
   "cell_type": "code",
   "execution_count": 2,
   "id": "conservative-halloween",
   "metadata": {},
   "outputs": [
    {
     "name": "stdout",
     "output_type": "stream",
     "text": [
      "            mean   variance  Standard_Deviation  Skewness  Score  label\n",
      "1      11.698192  19.169142            4.378258  2.512319   0.66      1\n",
      "2      11.818681  19.915393            4.462667  2.512201   0.66      1\n",
      "3      12.662684  24.878130            4.987798  2.422047   0.64      1\n",
      "5      12.538278  24.889463            4.988934  2.419901   0.64      1\n",
      "6      12.027754  22.700203            4.764473  2.414067   0.65      1\n",
      "...          ...        ...                 ...       ...    ...    ...\n",
      "48108  33.157155   7.286793            2.699406 -4.143796   0.31      1\n",
      "48284  33.228011   5.965162            2.442368 -4.253934   0.30      1\n",
      "48339  33.297940   4.990965            2.234047 -4.301702   0.30      1\n",
      "48346  33.216119   6.463614            2.542364 -4.306000   0.30      1\n",
      "48439  33.268759   5.763249            2.400677 -4.384112   0.30      1\n",
      "\n",
      "[3511 rows x 6 columns]\n"
     ]
    }
   ],
   "source": [
    "print(raw_data_anomaly)"
   ]
  },
  {
   "cell_type": "code",
   "execution_count": 3,
   "id": "acknowledged-abuse",
   "metadata": {},
   "outputs": [
    {
     "name": "stdout",
     "output_type": "stream",
     "text": [
      "            mean   variance  Standard_Deviation  Skewness  Score  label\n",
      "0       8.980729  16.566517            4.070199  2.704807   0.73      0\n",
      "4      11.500003  31.316772            5.596139  2.421310   0.66      0\n",
      "8      12.800106  20.475186            4.524951  2.382745   0.63      0\n",
      "9      11.499872  31.015734            5.569177  2.377982   0.66      0\n",
      "11     12.891240  28.847152            5.370954  2.365858   0.63      0\n",
      "...          ...        ...                 ...       ...    ...    ...\n",
      "49092  33.799290   0.873940            0.934847 -6.570044   0.30      0\n",
      "49093  33.688786   1.802719            1.342654 -6.589523   0.30      0\n",
      "49094  33.785528   1.035364            1.017528 -6.846391   0.30      0\n",
      "49095  33.782653   1.003452            1.001724 -7.041539   0.30      0\n",
      "49096  33.796153   0.946423            0.972843 -7.368823   0.30      0\n",
      "\n",
      "[45586 rows x 6 columns]\n"
     ]
    }
   ],
   "source": [
    "raw_data_nomal = raw_data[raw_data[\"label\"] ==0]\n",
    "print(raw_data_nomal)"
   ]
  },
  {
   "cell_type": "code",
   "execution_count": 4,
   "id": "stopped-training",
   "metadata": {},
   "outputs": [
    {
     "ename": "TypeError",
     "evalue": "'tuple' object is not callable",
     "output_type": "error",
     "traceback": [
      "\u001b[1;31m---------------------------------------------------------------------------\u001b[0m",
      "\u001b[1;31mTypeError\u001b[0m                                 Traceback (most recent call last)",
      "\u001b[1;32m<ipython-input-4-354dc97a7ee2>\u001b[0m in \u001b[0;36m<module>\u001b[1;34m\u001b[0m\n\u001b[1;32m----> 1\u001b[1;33m \u001b[0mraw_data_nomal\u001b[0m\u001b[1;33m.\u001b[0m\u001b[0mshape\u001b[0m\u001b[1;33m(\u001b[0m\u001b[1;33m)\u001b[0m\u001b[1;33m\u001b[0m\u001b[1;33m\u001b[0m\u001b[0m\n\u001b[0m",
      "\u001b[1;31mTypeError\u001b[0m: 'tuple' object is not callable"
     ]
    }
   ],
   "source": [
    "raw_data_nomal.shape()"
   ]
  },
  {
   "cell_type": "code",
   "execution_count": 5,
   "id": "sufficient-burden",
   "metadata": {},
   "outputs": [
    {
     "data": {
      "text/plain": [
       "(45586, 6)"
      ]
     },
     "execution_count": 5,
     "metadata": {},
     "output_type": "execute_result"
    }
   ],
   "source": [
    "raw_data_nomal.shape"
   ]
  },
  {
   "cell_type": "code",
   "execution_count": 7,
   "id": "narrow-battery",
   "metadata": {},
   "outputs": [
    {
     "data": {
      "text/plain": [
       "3511"
      ]
     },
     "execution_count": 7,
     "metadata": {},
     "output_type": "execute_result"
    }
   ],
   "source": [
    "raw_data_anomaly.shape[0]"
   ]
  },
  {
   "cell_type": "code",
   "execution_count": 9,
   "id": "sublime-juice",
   "metadata": {},
   "outputs": [
    {
     "name": "stdout",
     "output_type": "stream",
     "text": [
      "            mean   variance  Standard_Deviation  Skewness  Score  label\n",
      "29020  33.075834   4.941312            2.222906 -2.641542   0.31      0\n",
      "27416  33.766303   0.782808            0.884764 -2.597695   0.30      0\n",
      "43381  33.712574   1.046581            1.023025 -3.240033   0.30      0\n",
      "34883  33.735731   0.905533            0.951595 -2.820577   0.30      0\n",
      "4776   32.851902   4.520790            2.126215 -1.450829   0.31      0\n",
      "...          ...        ...                 ...       ...    ...    ...\n",
      "12651  33.826086   0.523726            0.723690 -2.098553   0.30      0\n",
      "5699   32.613004   6.066900            2.463108 -1.568401   0.31      0\n",
      "2887   31.433666  12.893901            3.590808 -0.905033   0.32      1\n",
      "42906  33.667857   1.289666            1.135635 -3.203353   0.30      0\n",
      "45432  33.699890   1.129404            1.062734 -3.444871   0.30      0\n",
      "\n",
      "[49097 rows x 6 columns]\n",
      "            mean  variance  Standard_Deviation  Skewness  Score  label\n",
      "0      33.702737  0.921046            0.959711 -2.074090   0.30      0\n",
      "1      32.834144  4.633145            2.152474 -1.514561   0.31      0\n",
      "2      33.569321  1.668290            1.291623 -2.594740   0.30      0\n",
      "3      33.583150  1.625287            1.274867 -3.001910   0.30      0\n",
      "4      33.779065  0.703542            0.838774 -2.465772   0.30      0\n",
      "...          ...       ...                 ...       ...    ...    ...\n",
      "49092  33.771169  0.757196            0.870170 -2.538372   0.30      0\n",
      "49093  33.487646  2.246016            1.498672 -3.040679   0.30      0\n",
      "49094  33.595040  1.413940            1.189092 -2.425545   0.30      0\n",
      "49095  33.631827  1.878141            1.370453 -4.650124   0.30      0\n",
      "49096  33.526943  1.764855            1.328478 -2.466818   0.30      0\n",
      "\n",
      "[49097 rows x 6 columns]\n"
     ]
    }
   ],
   "source": [
    "print(raw_data)\n",
    "raw_data = raw_data.sample(frac=1)\n",
    "print(raw_data.reset_index(drop=True))"
   ]
  },
  {
   "cell_type": "code",
   "execution_count": 1,
   "id": "floating-newman",
   "metadata": {},
   "outputs": [
    {
     "name": "stdout",
     "output_type": "stream",
     "text": [
      "12.792278265058025\n"
     ]
    }
   ],
   "source": [
    "import matplotlib.pyplot as plt\n",
    "import seaborn as sb\n",
    "\n",
    "sb.set_style(style=\"whitegrid\")\n",
    "sb.set_color_codes()\n",
    "import numpy as np\n",
    "from scipy.stats import skew\n",
    "import pandas as pd\n",
    "import eif_old as eif_old_class\n",
    "import scipy.io as sio\n",
    "\n",
    "# read data\n",
    "\n",
    "data = sio.loadmat('./datasets/cardio.mat')\n",
    "x_data = np.array(data[\"X\"])\n",
    "y_data = np.array(data[\"y\"])\n",
    "x_y_data = np.concatenate((x_data,y_data),axis=1)\n",
    "\n",
    "\n",
    "\n",
    "raw_datas = x_y_data\n",
    "raw_datas_without_label = x_data\n",
    "# print(raw_datas[0])\n",
    "# print(raw_datas_without_label[0])\n",
    "\n",
    "# train the forest\n",
    "number_of_trees = 1000\n",
    "subsample_size = int(len(raw_datas_without_label) / 2)\n",
    "extensionLevel = raw_datas_without_label.shape[1] - 1\n",
    "F1 = eif_old_class.iForest(raw_datas_without_label, ntrees=number_of_trees, sample_size=subsample_size,\n",
    "                           ExtensionLevel=extensionLevel)\n",
    "\n",
    "print(F1.c)"
   ]
  },
  {
   "cell_type": "code",
   "execution_count": 2,
   "id": "sustainable-diploma",
   "metadata": {},
   "outputs": [
    {
     "name": "stdout",
     "output_type": "stream",
     "text": [
      "15.531809501513619\n"
     ]
    }
   ],
   "source": [
    "import matplotlib.pyplot as plt\n",
    "import seaborn as sb\n",
    "\n",
    "sb.set_style(style=\"whitegrid\")\n",
    "sb.set_color_codes()\n",
    "import numpy as np\n",
    "from scipy.stats import skew\n",
    "import pandas as pd\n",
    "import eif_old as eif_old_class\n",
    "import scipy.io as sio\n",
    "\n",
    "# read data\n",
    "\n",
    "data = sio.loadmat('./datasets/annthyroid.mat')\n",
    "x_data = np.array(data[\"X\"])\n",
    "y_data = np.array(data[\"y\"])\n",
    "x_y_data = np.concatenate((x_data,y_data),axis=1)\n",
    "\n",
    "\n",
    "\n",
    "raw_datas = x_y_data\n",
    "raw_datas_without_label = x_data\n",
    "# print(raw_datas[0])\n",
    "# print(raw_datas_without_label[0])\n",
    "\n",
    "# train the forest\n",
    "number_of_trees = 1000\n",
    "subsample_size = int(len(raw_datas_without_label) / 2)\n",
    "extensionLevel = raw_datas_without_label.shape[1] - 1\n",
    "F1 = eif_old_class.iForest(raw_datas_without_label, ntrees=number_of_trees, sample_size=subsample_size,\n",
    "                           ExtensionLevel=extensionLevel)\n",
    "print(F1.c)"
   ]
  },
  {
   "cell_type": "code",
   "execution_count": null,
   "id": "stopped-backing",
   "metadata": {},
   "outputs": [],
   "source": [
    "import matplotlib.pyplot as plt\n",
    "import seaborn as sb\n",
    "\n",
    "sb.set_style(style=\"whitegrid\")\n",
    "sb.set_color_codes()\n",
    "import numpy as np\n",
    "from scipy.stats import skew\n",
    "import pandas as pd\n",
    "import eif_old as eif_old_class\n",
    "import scipy.io as sio\n",
    "\n",
    "data = sio.loadmat('./datasets/mnist.mat')\n",
    "x_data = np.array(data[\"X\"])\n",
    "y_data = np.array(data[\"y\"])\n",
    "x_y_data = np.concatenate((x_data,y_data),axis=1)\n",
    "\n",
    "\n",
    "\n",
    "raw_datas = x_y_data\n",
    "raw_datas_without_label = x_data\n",
    "# print(raw_datas[0])\n",
    "# print(raw_datas_without_label[0])\n",
    "\n",
    "# train the forest\n",
    "number_of_trees = 1000\n",
    "subsample_size = int(len(raw_datas_without_label) / 2)\n",
    "extensionLevel = raw_datas_without_label.shape[1] - 1\n",
    "F1 = eif_old_class.iForest(raw_datas_without_label, ntrees=number_of_trees, sample_size=subsample_size,\n",
    "                           ExtensionLevel=extensionLevel)\n",
    "print(F1.c)"
   ]
  },
  {
   "cell_type": "code",
   "execution_count": 2,
   "id": "geological-spectacular",
   "metadata": {},
   "outputs": [
    {
     "name": "stdout",
     "output_type": "stream",
     "text": [
      "[0.33333333 0.33333333 0.33333333]\n"
     ]
    }
   ],
   "source": [
    "import numpy as np\n",
    " \n",
    "a = np.array([1,1,1])\n",
    "c = a/3\n",
    "print(c)"
   ]
  },
  {
   "cell_type": "code",
   "execution_count": 4,
   "id": "looking-union",
   "metadata": {},
   "outputs": [
    {
     "name": "stdout",
     "output_type": "stream",
     "text": [
      "           mean   variance  Standard_Deviation  Skewness  Score  label  \\\n",
      "0      9.853942  18.141157            4.259244  0.669809   0.59      1   \n",
      "1      8.763956  16.373789            4.046454  0.811252   0.62      1   \n",
      "2     16.772381  16.712583            4.088103 -0.762371   0.40      1   \n",
      "3     17.035049  15.575329            3.946559 -0.830819   0.40      1   \n",
      "4     17.204318  14.643919            3.826737 -0.913100   0.39      1   \n",
      "...         ...        ...                 ...       ...    ...    ...   \n",
      "1358  18.357973   8.262542            2.874464 -1.084936   0.37      0   \n",
      "555   17.595607  11.521312            3.394306 -0.852028   0.39      0   \n",
      "1322  17.473709  14.135384            3.759705 -0.985493   0.39      0   \n",
      "683   14.250064  23.779307            4.876403 -0.137053   0.46      0   \n",
      "540   18.246578   8.452393            2.907300 -0.917919   0.37      0   \n",
      "\n",
      "             cn  mean_normalised  Standard_Deviation_normalised  \n",
      "0     12.792278         0.770304                       0.332954  \n",
      "1     12.792278         0.685097                       0.316320  \n",
      "2     12.792278         1.311133                       0.319576  \n",
      "3     12.792278         1.331667                       0.308511  \n",
      "4     12.792278         1.344899                       0.299144  \n",
      "...         ...              ...                            ...  \n",
      "1358  12.792278         1.435082                       0.224703  \n",
      "555   12.792278         1.375487                       0.265340  \n",
      "1322  12.792278         1.365958                       0.293904  \n",
      "683   12.792278         1.113958                       0.381199  \n",
      "540   12.792278         1.426374                       0.227270  \n",
      "\n",
      "[706 rows x 9 columns]\n"
     ]
    }
   ],
   "source": [
    "import numpy as np\n",
    "import matplotlib.pyplot as plt\n",
    "import pandas as pd\n",
    "from sklearn.model_selection import train_test_split\n",
    "\n",
    "raw_data = pd.read_excel(\"./logistic_regression_data/cardio_statistic_data.xlsx\")\n",
    "raw_data_anomaly = raw_data[raw_data[\"label\"] == 1]\n",
    "raw_data_normal = raw_data[raw_data[\"label\"] == 0]\n",
    "number_of_anomaly_sample = raw_data_anomaly.shape[0]\n",
    "number_of_normal_sample = raw_data_normal.shape[0]\n",
    "\n",
    "anomaly_min_ratio = 0.25\n",
    "if number_of_normal_sample / number_of_anomaly_sample > (1 / anomaly_min_ratio):\n",
    "    sample_ratio = round((number_of_anomaly_sample * (1 - anomaly_min_ratio) / anomaly_min_ratio) / number_of_normal_sample, 2)\n",
    "    raw_data_normal = raw_data_normal.sample(frac=sample_ratio)\n",
    "\n",
    "raw_data_undersample = pd.concat([raw_data_anomaly, raw_data_normal], axis=0)\n",
    "\n",
    "print(raw_data_undersample)"
   ]
  },
  {
   "cell_type": "code",
   "execution_count": 5,
   "id": "premium-honey",
   "metadata": {},
   "outputs": [
    {
     "name": "stdout",
     "output_type": "stream",
     "text": [
      "          mean   variance  Standard_Deviation  Skewness  Score  label  \\\n",
      "0    18.451057   7.336742            2.708642 -0.993170   0.37      0   \n",
      "1    10.678184  17.746050            4.212606  0.813327   0.56      0   \n",
      "2    18.545165   8.083100            2.843079 -1.271382   0.37      0   \n",
      "3    14.250923  18.677858            4.321789  0.050139   0.46      0   \n",
      "4    14.906161  17.535161            4.187501 -0.153048   0.45      1   \n",
      "..         ...        ...                 ...       ...    ...    ...   \n",
      "701  14.110621  22.549236            4.748604 -0.112139   0.47      0   \n",
      "702  14.637235  17.930446            4.234436 -0.010639   0.45      1   \n",
      "703  18.752900   6.915423            2.629719 -1.137872   0.36      0   \n",
      "704  11.860689  17.996593            4.242239  0.588982   0.53      1   \n",
      "705  17.703323  11.410996            3.378017 -0.879609   0.38      0   \n",
      "\n",
      "            cn  mean_normalised  Standard_Deviation_normalised  \n",
      "0    12.792278         1.442359                       0.211740  \n",
      "1    12.792278         0.834737                       0.329309  \n",
      "2    12.792278         1.449716                       0.222250  \n",
      "3    12.792278         1.114025                       0.337844  \n",
      "4    12.792278         1.165247                       0.327346  \n",
      "..         ...              ...                            ...  \n",
      "701  12.792278         1.103058                       0.371209  \n",
      "702  12.792278         1.144224                       0.331015  \n",
      "703  12.792278         1.465955                       0.205571  \n",
      "704  12.792278         0.927176                       0.331625  \n",
      "705  12.792278         1.383907                       0.264067  \n",
      "\n",
      "[706 rows x 9 columns]\n"
     ]
    }
   ],
   "source": [
    "raw_data_undersample = raw_data_undersample.sample(frac=1).reset_index(drop=True)\n",
    "\n",
    "print(raw_data_undersample)"
   ]
  },
  {
   "cell_type": "code",
   "execution_count": 1,
   "id": "inner-subscription",
   "metadata": {},
   "outputs": [],
   "source": [
    "import pandas as pd\n",
    "import numpy as np\n",
    "import scipy.interpolate as itpl\n",
    "import scipy.io as sio\n",
    "\n",
    "dataset_name = \"thyroid\"\n",
    "folder_path = \"./plots/\"\n",
    "file_path_cdf_x = folder_path + dataset_name + \"-CDF_points_x.csv\"\n",
    "file_path_cdf_y = folder_path + dataset_name + \"-CDF_points_y.csv\"\n",
    "\n",
    "dataset_path = './datasets/' + dataset_name +'.mat'\n",
    "data = sio.loadmat(dataset_path)\n",
    "x_data = np.array(data[\"X\"])\n",
    "\n",
    "column_to_be_transformed = x_data[:,0]"
   ]
  },
  {
   "cell_type": "code",
   "execution_count": 2,
   "id": "latest-sampling",
   "metadata": {},
   "outputs": [
    {
     "data": {
      "text/plain": [
       "array([0.77419355, 0.24731183, 0.49462366, ..., 0.93548387, 0.67741935,\n",
       "       0.48387097])"
      ]
     },
     "execution_count": 2,
     "metadata": {},
     "output_type": "execute_result"
    }
   ],
   "source": [
    "column_to_be_transformed"
   ]
  },
  {
   "cell_type": "code",
   "execution_count": 3,
   "id": "incredible-projector",
   "metadata": {},
   "outputs": [
    {
     "data": {
      "text/plain": [
       "(3772,)"
      ]
     },
     "execution_count": 3,
     "metadata": {},
     "output_type": "execute_result"
    }
   ],
   "source": [
    "column_to_be_transformed.shape"
   ]
  },
  {
   "cell_type": "code",
   "execution_count": 4,
   "id": "eight-picking",
   "metadata": {},
   "outputs": [
    {
     "data": {
      "text/plain": [
       "(3772, 6)"
      ]
     },
     "execution_count": 4,
     "metadata": {},
     "output_type": "execute_result"
    }
   ],
   "source": [
    "x_data.shape"
   ]
  },
  {
   "cell_type": "code",
   "execution_count": 5,
   "id": "overhead-ribbon",
   "metadata": {},
   "outputs": [
    {
     "data": {
      "text/plain": [
       "6"
      ]
     },
     "execution_count": 5,
     "metadata": {},
     "output_type": "execute_result"
    }
   ],
   "source": [
    "x_data.shape[1]"
   ]
  },
  {
   "cell_type": "code",
   "execution_count": 1,
   "id": "separated-arrangement",
   "metadata": {},
   "outputs": [],
   "source": [
    "import Orange\n",
    "\n",
    "iris = Orange.data.Table(\"iris.tab\")"
   ]
  },
  {
   "cell_type": "code",
   "execution_count": 2,
   "id": "outside-deadline",
   "metadata": {},
   "outputs": [
    {
     "data": {
      "text/plain": [
       "[[5.1, 3.5, 1.4, 0.2 | Iris-setosa],\n",
       " [4.9, 3.0, 1.4, 0.2 | Iris-setosa],\n",
       " [4.7, 3.2, 1.3, 0.2 | Iris-setosa],\n",
       " [4.6, 3.1, 1.5, 0.2 | Iris-setosa],\n",
       " [5.0, 3.6, 1.4, 0.2 | Iris-setosa],\n",
       " ...\n",
       "]"
      ]
     },
     "execution_count": 2,
     "metadata": {},
     "output_type": "execute_result"
    }
   ],
   "source": [
    "iris"
   ]
  },
  {
   "cell_type": "code",
   "execution_count": 3,
   "id": "moved-illness",
   "metadata": {},
   "outputs": [
    {
     "data": {
      "text/plain": [
       "Orange.data.table.Table"
      ]
     },
     "execution_count": 3,
     "metadata": {},
     "output_type": "execute_result"
    }
   ],
   "source": [
    "type(iris)"
   ]
  },
  {
   "cell_type": "code",
   "execution_count": 4,
   "id": "several-scott",
   "metadata": {},
   "outputs": [
    {
     "ename": "NameError",
     "evalue": "name 'X' is not defined",
     "output_type": "error",
     "traceback": [
      "\u001b[1;31m---------------------------------------------------------------------------\u001b[0m",
      "\u001b[1;31mNameError\u001b[0m                                 Traceback (most recent call last)",
      "\u001b[1;32m<ipython-input-4-3ebb99cd513b>\u001b[0m in \u001b[0;36m<module>\u001b[1;34m\u001b[0m\n\u001b[0;32m      1\u001b[0m \u001b[1;32mimport\u001b[0m \u001b[0mOrange\u001b[0m\u001b[1;33m\u001b[0m\u001b[1;33m\u001b[0m\u001b[0m\n\u001b[1;32m----> 2\u001b[1;33m \u001b[0mcontinuous_features\u001b[0m \u001b[1;33m=\u001b[0m \u001b[1;33m[\u001b[0m\u001b[1;33m*\u001b[0m\u001b[0mset\u001b[0m\u001b[1;33m(\u001b[0m\u001b[0mX\u001b[0m\u001b[1;33m.\u001b[0m\u001b[0mcolumns\u001b[0m\u001b[1;33m)\u001b[0m\u001b[1;33m-\u001b[0m\u001b[0mset\u001b[0m\u001b[1;33m(\u001b[0m\u001b[0mcategorical_features\u001b[0m\u001b[1;33m)\u001b[0m\u001b[1;33m]\u001b[0m\u001b[1;33m\u001b[0m\u001b[1;33m\u001b[0m\u001b[0m\n\u001b[0m\u001b[0;32m      3\u001b[0m \u001b[0mX\u001b[0m\u001b[1;33m[\u001b[0m\u001b[0mcategorical_features\u001b[0m\u001b[1;33m]\u001b[0m \u001b[1;33m=\u001b[0m \u001b[0mX\u001b[0m\u001b[1;33m[\u001b[0m\u001b[0mcategorical_features\u001b[0m\u001b[1;33m]\u001b[0m\u001b[1;33m.\u001b[0m\u001b[0mastype\u001b[0m\u001b[1;33m(\u001b[0m\u001b[1;34m'category'\u001b[0m\u001b[1;33m)\u001b[0m\u001b[1;33m\u001b[0m\u001b[1;33m\u001b[0m\u001b[0m\n\u001b[0;32m      4\u001b[0m \u001b[0mdata_df\u001b[0m \u001b[1;33m=\u001b[0m \u001b[0mpd\u001b[0m\u001b[1;33m.\u001b[0m\u001b[0mconcat\u001b[0m\u001b[1;33m(\u001b[0m\u001b[1;33m[\u001b[0m\u001b[0mX\u001b[0m\u001b[1;33m[\u001b[0m\u001b[0mcontinuous_features\u001b[0m \u001b[1;33m]\u001b[0m\u001b[1;33m,\u001b[0m \u001b[0my\u001b[0m\u001b[1;33m.\u001b[0m\u001b[0mastype\u001b[0m\u001b[1;33m(\u001b[0m\u001b[1;34m'category'\u001b[0m\u001b[1;33m)\u001b[0m\u001b[1;33m]\u001b[0m\u001b[1;33m,\u001b[0m \u001b[0maxis\u001b[0m\u001b[1;33m=\u001b[0m\u001b[1;36m1\u001b[0m\u001b[1;33m)\u001b[0m\u001b[1;33m\u001b[0m\u001b[1;33m\u001b[0m\u001b[0m\n\u001b[0;32m      5\u001b[0m \u001b[0morange_table\u001b[0m \u001b[1;33m=\u001b[0m \u001b[0mtable_from_frame\u001b[0m\u001b[1;33m(\u001b[0m\u001b[0mdata_df\u001b[0m\u001b[1;33m,\u001b[0m \u001b[0mclass_name\u001b[0m\u001b[1;33m=\u001b[0m\u001b[0mdata_df\u001b[0m\u001b[1;33m.\u001b[0m\u001b[0mcolum\u001b[0m\u001b[1;33m[\u001b[0m\u001b[1;33m-\u001b[0m\u001b[1;36m1\u001b[0m\u001b[1;33m]\u001b[0m\u001b[1;33m)\u001b[0m\u001b[1;33m\u001b[0m\u001b[1;33m\u001b[0m\u001b[0m\n",
      "\u001b[1;31mNameError\u001b[0m: name 'X' is not defined"
     ]
    }
   ],
   "source": [
    "import Orange\n",
    "continuous_features = [*set(X.columns)-set(categorical_features)]\n",
    "X[categorical_features] = X[categorical_features].astype('category')\n",
    "data_df = pd.concat([X[continuous_features ], y.astype('category')], axis=1)\n",
    "orange_table = table_from_frame(data_df, class_name=data_df.colum[-1])  \n",
    "disc = Orange.preprocess.Discretize()\n",
    "disc.method = Orange.preprocess.discretize.EntropyMDL()\n",
    "orange_table_discrete = disc(orange_table)\n",
    "X[continuous_features ] = orange_table_discrete.X"
   ]
  },
  {
   "cell_type": "code",
   "execution_count": 21,
   "id": "naked-unemployment",
   "metadata": {},
   "outputs": [],
   "source": [
    "import numpy as np\n",
    "import scipy.stats as sts\n",
    "import pandas\n",
    "import pandas as pd\n",
    "import eif_old as eif_old_class\n",
    "import scipy.io as sio\n",
    "import os\n",
    "import sklearn.metrics as skm\n",
    "from sklearn.preprocessing import KBinsDiscretizer\n",
    "data = sio.loadmat('./datasets/' + \"cardio\" + '.mat')\n",
    "pd_x = pd.DataFrame(data[\"X\"])\n",
    "    # pd_x.iloc[:,5] = pd_x.iloc[:,5].astype(\"category\")\n",
    "pd_y = pd.DataFrame(data[\"y\"])\n",
    "np_x = np.array(pd_x)\n",
    "np_y = np.array(pd_y)\n",
    "np_x_discretized = np_x\n",
    "\n",
    "enc = KBinsDiscretizer(n_bins=10, encode='ordinal',strategy=\"kmeans\")"
   ]
  },
  {
   "cell_type": "code",
   "execution_count": 22,
   "id": "acquired-entity",
   "metadata": {},
   "outputs": [],
   "source": [
    " continuous_feature = [0,1, 2, 3, 4, 6, 7, 8, 9, 10, 11, 12, 13, 14, 16, 17, 18, 19]"
   ]
  },
  {
   "cell_type": "code",
   "execution_count": 23,
   "id": "level-yellow",
   "metadata": {},
   "outputs": [
    {
     "data": {
      "text/plain": [
       "array([[ 0.00491231,  0.69319077, -0.20364049, ...,  0.19311344,\n",
       "         0.23149795, -0.28978574],\n",
       "       [ 0.11072935, -0.07990259, -0.20364049, ...,  0.12926535,\n",
       "         0.09356344, -0.25638541],\n",
       "       [ 0.21654639, -0.27244466, -0.20364049, ...,  0.06541726,\n",
       "         0.02459619, -0.25638541],\n",
       "       ...,\n",
       "       [-0.41835583, -0.91998844, -0.16463485, ..., -2.48850622,\n",
       "        -1.49268341,  0.24461959],\n",
       "       [-0.41835583, -0.91998844, -0.15093411, ..., -2.29696196,\n",
       "        -1.42371616,  0.14441859],\n",
       "       [-0.41835583, -0.91998844, -0.20364049, ..., -3.82931606,\n",
       "        -1.28578165,  3.58465295]])"
      ]
     },
     "execution_count": 23,
     "metadata": {},
     "output_type": "execute_result"
    }
   ],
   "source": [
    "np_x_discretized[:, continuous_feature]"
   ]
  },
  {
   "cell_type": "code",
   "execution_count": 24,
   "id": "lesser-identifier",
   "metadata": {},
   "outputs": [
    {
     "data": {
      "text/plain": [
       "(1831, 18)"
      ]
     },
     "execution_count": 24,
     "metadata": {},
     "output_type": "execute_result"
    }
   ],
   "source": [
    "np_x_discretized[:, continuous_feature].shape"
   ]
  },
  {
   "cell_type": "code",
   "execution_count": 25,
   "id": "undefined-index",
   "metadata": {},
   "outputs": [
    {
     "data": {
      "text/plain": [
       "numpy.ndarray"
      ]
     },
     "execution_count": 25,
     "metadata": {},
     "output_type": "execute_result"
    }
   ],
   "source": [
    "type(np_x_discretized[:, continuous_feature])\n"
   ]
  },
  {
   "cell_type": "code",
   "execution_count": 26,
   "id": "radical-sandwich",
   "metadata": {},
   "outputs": [
    {
     "data": {
      "text/plain": [
       "numpy.ndarray"
      ]
     },
     "execution_count": 26,
     "metadata": {},
     "output_type": "execute_result"
    }
   ],
   "source": [
    "type(np_x[:, continuous_feature])"
   ]
  },
  {
   "cell_type": "code",
   "execution_count": 27,
   "id": "attractive-discretion",
   "metadata": {},
   "outputs": [],
   "source": [
    "reuslt = enc.fit_transform(np_x_discretized[:, continuous_feature])"
   ]
  },
  {
   "cell_type": "code",
   "execution_count": 28,
   "id": "novel-tracker",
   "metadata": {},
   "outputs": [
    {
     "data": {
      "text/plain": [
       "numpy.ndarray"
      ]
     },
     "execution_count": 28,
     "metadata": {},
     "output_type": "execute_result"
    }
   ],
   "source": [
    "type(reuslt)"
   ]
  },
  {
   "cell_type": "code",
   "execution_count": 29,
   "id": "illegal-excess",
   "metadata": {},
   "outputs": [
    {
     "name": "stdout",
     "output_type": "stream",
     "text": [
      "[[4. 3. 0. ... 5. 5. 0.]\n",
      " [4. 2. 0. ... 5. 5. 1.]\n",
      " [5. 1. 0. ... 5. 5. 1.]\n",
      " ...\n",
      " [3. 0. 0. ... 1. 3. 1.]\n",
      " [3. 0. 0. ... 1. 3. 1.]\n",
      " [3. 0. 0. ... 0. 3. 5.]]\n"
     ]
    }
   ],
   "source": [
    "print(reuslt)"
   ]
  },
  {
   "cell_type": "code",
   "execution_count": 30,
   "id": "seeing-instrument",
   "metadata": {},
   "outputs": [
    {
     "data": {
      "text/plain": [
       "numpy.ndarray"
      ]
     },
     "execution_count": 30,
     "metadata": {},
     "output_type": "execute_result"
    }
   ],
   "source": [
    "type(reuslt)"
   ]
  },
  {
   "cell_type": "code",
   "execution_count": 31,
   "id": "naughty-restoration",
   "metadata": {},
   "outputs": [
    {
     "data": {
      "text/plain": [
       "(1831, 18)"
      ]
     },
     "execution_count": 31,
     "metadata": {},
     "output_type": "execute_result"
    }
   ],
   "source": [
    "reuslt.shape"
   ]
  },
  {
   "cell_type": "code",
   "execution_count": 33,
   "id": "happy-george",
   "metadata": {},
   "outputs": [],
   "source": [
    "np_x_discretized[:, continuous_feature] = reuslt"
   ]
  },
  {
   "cell_type": "code",
   "execution_count": 34,
   "id": "tested-rider",
   "metadata": {},
   "outputs": [
    {
     "data": {
      "text/plain": [
       "(1831, 21)"
      ]
     },
     "execution_count": 34,
     "metadata": {},
     "output_type": "execute_result"
    }
   ],
   "source": [
    "np_x_discretized.shape"
   ]
  },
  {
   "cell_type": "code",
   "execution_count": 36,
   "id": "atlantic-split",
   "metadata": {},
   "outputs": [
    {
     "name": "stdout",
     "output_type": "stream",
     "text": [
      "[[ 4.          3.          0.         ...  5.          0.\n",
      "  -0.49329397]\n",
      " [ 4.          2.          0.         ...  5.          1.\n",
      "  -0.49329397]\n",
      " [ 5.          1.          0.         ...  5.          1.\n",
      "   1.14001753]\n",
      " ...\n",
      " [ 3.          0.          0.         ...  3.          1.\n",
      "  -0.49329397]\n",
      " [ 3.          0.          0.         ...  3.          1.\n",
      "  -0.49329397]\n",
      " [ 3.          0.          0.         ...  3.          5.\n",
      "  -0.49329397]]\n"
     ]
    }
   ],
   "source": [
    "print(np_x_discretized)"
   ]
  },
  {
   "cell_type": "code",
   "execution_count": null,
   "id": "animated-algebra",
   "metadata": {},
   "outputs": [],
   "source": []
  }
 ],
 "metadata": {
  "kernelspec": {
   "display_name": "Python 3",
   "language": "python",
   "name": "python3"
  },
  "language_info": {
   "codemirror_mode": {
    "name": "ipython",
    "version": 3
   },
   "file_extension": ".py",
   "mimetype": "text/x-python",
   "name": "python",
   "nbconvert_exporter": "python",
   "pygments_lexer": "ipython3",
   "version": "3.8.5"
  }
 },
 "nbformat": 4,
 "nbformat_minor": 5
}
